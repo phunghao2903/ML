{
 "cells": [
  {
   "cell_type": "code",
   "execution_count": 11,
   "id": "80f12eec-1fd7-47cb-9afc-33176b2f1526",
   "metadata": {},
   "outputs": [
    {
     "name": "stderr",
     "output_type": "stream",
     "text": [
      "[*********************100%***********************]  1 of 1 completed\n"
     ]
    }
   ],
   "source": [
    "import numpy as np\n",
    "import matplotlib.pyplot as plt\n",
    "import tensorflow as tf\n",
    "import pandas as pd\n",
    "import yfinance as yf\n",
    "from sklearn.preprocessing import MinMaxScaler\n",
    "\n",
    "Macophieu = \"GOOG\"\n",
    "prop = 'Close'\n",
    "model = tf.keras.models.load_model('lstm_stock_model.keras')\n",
    "\n",
    "# 🟢 Bước 2: Tải dữ liệu từ Yahoo Finance\n",
    "ticker = \"GOOG\"  # Thay đổi mã cổ phiếu nếu cần\n",
    "n_past_days = 60  # Sử dụng 60 ngày gần nhất để dự đoán\n",
    "future_days = 7   # Dự đoán 3 ngày tiếp theo\n",
    "\n",
    "# Lấy dữ liệu từ Yahoo Finance\n",
    "today = pd.to_datetime(\"2025-03-20\")  # Ngày hiện tại (có thể thay đổi)\n",
    "start_date = today - pd.Timedelta(days=n_past_days + 40)  # Lấy thêm để đảm bảo đủ dữ liệu\n",
    "df = yf.download(ticker, start=start_date, end=today)\n",
    "\n",
    "# 🟢 Bước 3: Chuẩn bị dữ liệu đầu vào\n",
    "scaler = MinMaxScaler(feature_range=(0, 1))\n",
    "close_prices = df[\"Close\"].values.reshape(-1, 1)\n",
    "close_prices_scaled = scaler.fit_transform(close_prices)"
   ]
  },
  {
   "cell_type": "code",
   "execution_count": 13,
   "id": "b121b884-acdf-47d1-aef4-7eccf0a9d3a5",
   "metadata": {},
   "outputs": [],
   "source": [
    "x_input = close_prices_scaled[-n_past_days:].reshape(1, n_past_days, 1)"
   ]
  },
  {
   "cell_type": "code",
   "execution_count": 17,
   "id": "9e8bd7cf-9460-4bcd-88b6-29477444e87f",
   "metadata": {},
   "outputs": [
    {
     "ename": "ValueError",
     "evalue": "Exception encountered when calling LSTMCell.call().\n\n\u001b[1mDimensions must be equal, but are 1 and 9 for '{{node sequential_1/lstm_1/lstm_cell_1/MatMul}} = MatMul[T=DT_FLOAT, grad_a=false, grad_b=false, transpose_a=false, transpose_b=false](sequential_1/lstm_1/strided_slice_1, sequential_1/lstm_1/lstm_cell_1/Cast/ReadVariableOp)' with input shapes: [1,1], [9,320].\u001b[0m\n\nArguments received by LSTMCell.call():\n  • inputs=tf.Tensor(shape=(1, 1), dtype=float32)\n  • states=('tf.Tensor(shape=(1, 80), dtype=float32)', 'tf.Tensor(shape=(1, 80), dtype=float32)')\n  • training=False",
     "output_type": "error",
     "traceback": [
      "\u001b[0;31m---------------------------------------------------------------------------\u001b[0m",
      "\u001b[0;31mValueError\u001b[0m                                Traceback (most recent call last)",
      "Cell \u001b[0;32mIn[17], line 3\u001b[0m\n\u001b[1;32m      1\u001b[0m future_predictions \u001b[38;5;241m=\u001b[39m []\n\u001b[1;32m      2\u001b[0m \u001b[38;5;28;01mfor\u001b[39;00m i \u001b[38;5;129;01min\u001b[39;00m \u001b[38;5;28mrange\u001b[39m(future_days):\n\u001b[0;32m----> 3\u001b[0m     next_day_pred \u001b[38;5;241m=\u001b[39m model\u001b[38;5;241m.\u001b[39mpredict(x_input)\n\u001b[1;32m      4\u001b[0m     next_day_pred_real \u001b[38;5;241m=\u001b[39m scaler\u001b[38;5;241m.\u001b[39minverse_transform(next_day_pred)[\u001b[38;5;241m0\u001b[39m][\u001b[38;5;241m0\u001b[39m]\n\u001b[1;32m      5\u001b[0m     future_predictions\u001b[38;5;241m.\u001b[39mappend(next_day_pred_real)\n",
      "File \u001b[0;32m~/anaconda3/lib/python3.12/site-packages/keras/src/utils/traceback_utils.py:122\u001b[0m, in \u001b[0;36mfilter_traceback.<locals>.error_handler\u001b[0;34m(*args, **kwargs)\u001b[0m\n\u001b[1;32m    119\u001b[0m     filtered_tb \u001b[38;5;241m=\u001b[39m _process_traceback_frames(e\u001b[38;5;241m.\u001b[39m__traceback__)\n\u001b[1;32m    120\u001b[0m     \u001b[38;5;66;03m# To get the full stack trace, call:\u001b[39;00m\n\u001b[1;32m    121\u001b[0m     \u001b[38;5;66;03m# `keras.config.disable_traceback_filtering()`\u001b[39;00m\n\u001b[0;32m--> 122\u001b[0m     \u001b[38;5;28;01mraise\u001b[39;00m e\u001b[38;5;241m.\u001b[39mwith_traceback(filtered_tb) \u001b[38;5;28;01mfrom\u001b[39;00m \u001b[38;5;28;01mNone\u001b[39;00m\n\u001b[1;32m    123\u001b[0m \u001b[38;5;28;01mfinally\u001b[39;00m:\n\u001b[1;32m    124\u001b[0m     \u001b[38;5;28;01mdel\u001b[39;00m filtered_tb\n",
      "File \u001b[0;32m~/anaconda3/lib/python3.12/site-packages/keras/src/utils/traceback_utils.py:122\u001b[0m, in \u001b[0;36mfilter_traceback.<locals>.error_handler\u001b[0;34m(*args, **kwargs)\u001b[0m\n\u001b[1;32m    119\u001b[0m     filtered_tb \u001b[38;5;241m=\u001b[39m _process_traceback_frames(e\u001b[38;5;241m.\u001b[39m__traceback__)\n\u001b[1;32m    120\u001b[0m     \u001b[38;5;66;03m# To get the full stack trace, call:\u001b[39;00m\n\u001b[1;32m    121\u001b[0m     \u001b[38;5;66;03m# `keras.config.disable_traceback_filtering()`\u001b[39;00m\n\u001b[0;32m--> 122\u001b[0m     \u001b[38;5;28;01mraise\u001b[39;00m e\u001b[38;5;241m.\u001b[39mwith_traceback(filtered_tb) \u001b[38;5;28;01mfrom\u001b[39;00m \u001b[38;5;28;01mNone\u001b[39;00m\n\u001b[1;32m    123\u001b[0m \u001b[38;5;28;01mfinally\u001b[39;00m:\n\u001b[1;32m    124\u001b[0m     \u001b[38;5;28;01mdel\u001b[39;00m filtered_tb\n",
      "\u001b[0;31mValueError\u001b[0m: Exception encountered when calling LSTMCell.call().\n\n\u001b[1mDimensions must be equal, but are 1 and 9 for '{{node sequential_1/lstm_1/lstm_cell_1/MatMul}} = MatMul[T=DT_FLOAT, grad_a=false, grad_b=false, transpose_a=false, transpose_b=false](sequential_1/lstm_1/strided_slice_1, sequential_1/lstm_1/lstm_cell_1/Cast/ReadVariableOp)' with input shapes: [1,1], [9,320].\u001b[0m\n\nArguments received by LSTMCell.call():\n  • inputs=tf.Tensor(shape=(1, 1), dtype=float32)\n  • states=('tf.Tensor(shape=(1, 80), dtype=float32)', 'tf.Tensor(shape=(1, 80), dtype=float32)')\n  • training=False"
     ]
    }
   ],
   "source": [
    "future_predictions = []\n",
    "for i in range(future_days):\n",
    "    next_day_pred = model.predict(x_input)\n",
    "    next_day_pred_real = scaler.inverse_transform(next_day_pred)[0][0]\n",
    "    future_predictions.append(next_day_pred_real)\n",
    "\n",
    "    # Cập nhật dữ liệu đầu vào\n",
    "    # x_input = np.append(x_input[:, 1:, :], next_day_pred.reshape(1, 1, 1), axis=1)\n",
    "    x_input = np.array(x_input).reshape(1, timesteps, features)\n"
   ]
  },
  {
   "cell_type": "code",
   "execution_count": null,
   "id": "26e34e6f-f34e-4e52-a502-11329148b196",
   "metadata": {},
   "outputs": [],
   "source": [
    "for i in range(future_days):\n",
    "    future_date = today + pd.Timedelta(days=i+1)\n",
    "    print(f\"Dự đoán giá {ticker} ngày {future_date.strftime('%d/%m/%Y')}: {future_predictions[i]:.2f}\")"
   ]
  },
  {
   "cell_type": "code",
   "execution_count": null,
   "id": "a16686ba-0889-4dba-82bd-beffb884f8d6",
   "metadata": {},
   "outputs": [],
   "source": [
    "dates = [today + pd.Timedelta(days=i+1) for i in range(future_days)]\n",
    "plt.plot(dates, future_predictions, marker='o', linestyle='dashed', color='b', label=\"Dự đoán\")\n",
    "plt.xlabel(\"Ngày\")\n",
    "plt.ylabel(\"Giá dự đoán\")\n",
    "plt.title(f\"Dự đoán giá {ticker} trong 7 ngày tới\")\n",
    "plt.xticks(rotation=45)\n",
    "plt.legend()\n",
    "plt.grid()\n",
    "plt.show()"
   ]
  }
 ],
 "metadata": {
  "kernelspec": {
   "display_name": "Python [conda env:base] *",
   "language": "python",
   "name": "conda-base-py"
  },
  "language_info": {
   "codemirror_mode": {
    "name": "ipython",
    "version": 3
   },
   "file_extension": ".py",
   "mimetype": "text/x-python",
   "name": "python",
   "nbconvert_exporter": "python",
   "pygments_lexer": "ipython3",
   "version": "3.12.2"
  }
 },
 "nbformat": 4,
 "nbformat_minor": 5
}

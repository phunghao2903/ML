{
 "cells": [
  {
   "cell_type": "code",
   "execution_count": 199,
   "id": "18a95bee-1dbe-49c8-bc34-3d0523e7d50d",
   "metadata": {},
   "outputs": [],
   "source": [
    "import numpy as np\n",
    "import pandas as pd\n",
    "from keras.models import load_model\n",
    "from sklearn.preprocessing import MinMaxScaler\n",
    "import yfinance as yf\n",
    "import matplotlib.pyplot as plt\n",
    "import datetime as dt"
   ]
  },
  {
   "cell_type": "code",
   "execution_count": 201,
   "id": "d16f8aaf-bc34-44d3-b8b5-40113e2fdc0b",
   "metadata": {},
   "outputs": [
    {
     "name": "stderr",
     "output_type": "stream",
     "text": [
      "WARNING:absl:Compiled the loaded model, but the compiled metrics have yet to be built. `model.compile_metrics` will be empty until you train or evaluate the model.\n"
     ]
    }
   ],
   "source": [
    "model_path = \"/home/phung/jnotebook/source/Tuan7.2/stock_dl_model.h5\"\n",
    "model = load_model(model_path)\n"
   ]
  },
  {
   "cell_type": "code",
   "execution_count": 203,
   "id": "6da3b435-3884-462e-b399-f887f7262ed8",
   "metadata": {},
   "outputs": [
    {
     "name": "stderr",
     "output_type": "stream",
     "text": [
      "[*********************100%***********************]  1 of 1 completed"
     ]
    },
    {
     "name": "stdout",
     "output_type": "stream",
     "text": [
      "Price         Close     High      Low     Open    Volume\n",
      "Ticker       HPG.VN   HPG.VN   HPG.VN   HPG.VN    HPG.VN\n",
      "Date                                                    \n",
      "2025-02-25  27500.0  27700.0  27200.0  27600.0  33168800\n",
      "2025-02-26  27750.0  27950.0  27550.0  27600.0  32319600\n",
      "2025-02-27  28450.0  28450.0  27600.0  27800.0  52685800\n",
      "2025-02-28  28000.0  28400.0  27950.0  28400.0  25182600\n",
      "2025-03-03  28050.0  28250.0  28000.0  28050.0  22228700\n"
     ]
    },
    {
     "name": "stderr",
     "output_type": "stream",
     "text": [
      "\n"
     ]
    }
   ],
   "source": [
    "stock = \"HPG.VN\"\n",
    "start = dt.datetime(2015, 2, 14)  # Ngày bắt đầu giống như khi train\n",
    "end = dt.datetime.today()  # Lấy dữ liệu mới nhất đến hôm nay\n",
    "\n",
    "# Tải dữ liệu mới\n",
    "df = yf.download(stock, start, end)\n",
    "\n",
    "# Kiểm tra dữ liệu\n",
    "print(df.tail())"
   ]
  },
  {
   "cell_type": "code",
   "execution_count": 205,
   "id": "c25ffbee-9f48-4e5b-a34e-23a9202fe706",
   "metadata": {},
   "outputs": [],
   "source": [
    "past_100_days = df.tail(100)  # Lấy 100 ngày gần nhất từ tập dữ liệu\n",
    "final_df = past_100_days['Close'].values.reshape(-1,1)  # Chỉ lấy cột 'Close'\n"
   ]
  },
  {
   "cell_type": "code",
   "execution_count": 207,
   "id": "b065a0d4-6bb2-4f90-bb37-2548a84335fd",
   "metadata": {},
   "outputs": [],
   "source": [
    "scaler = MinMaxScaler(feature_range=(0,1))\n",
    "scaler.fit(df[['Close']])  # Fit lại scaler trên toàn bộ dữ liệu cũ\n",
    "final_df_scaled = scaler.transform(final_df)\n"
   ]
  },
  {
   "cell_type": "code",
   "execution_count": 209,
   "id": "0c7d60d2-ca67-4656-bd59-17317ecfcb5b",
   "metadata": {},
   "outputs": [],
   "source": [
    "x_input = final_df_scaled.reshape(1, 100, 1)\n"
   ]
  },
  {
   "cell_type": "code",
   "execution_count": 211,
   "id": "b729742c-343d-4042-8abe-58c5479b6b7c",
   "metadata": {},
   "outputs": [
    {
     "name": "stdout",
     "output_type": "stream",
     "text": [
      "\u001b[1m1/1\u001b[0m \u001b[32m━━━━━━━━━━━━━━━━━━━━\u001b[0m\u001b[37m\u001b[0m \u001b[1m0s\u001b[0m 314ms/step\n",
      "\u001b[1m1/1\u001b[0m \u001b[32m━━━━━━━━━━━━━━━━━━━━\u001b[0m\u001b[37m\u001b[0m \u001b[1m0s\u001b[0m 42ms/step\n",
      "\u001b[1m1/1\u001b[0m \u001b[32m━━━━━━━━━━━━━━━━━━━━\u001b[0m\u001b[37m\u001b[0m \u001b[1m0s\u001b[0m 41ms/step\n",
      "\u001b[1m1/1\u001b[0m \u001b[32m━━━━━━━━━━━━━━━━━━━━\u001b[0m\u001b[37m\u001b[0m \u001b[1m0s\u001b[0m 44ms/step\n",
      "\u001b[1m1/1\u001b[0m \u001b[32m━━━━━━━━━━━━━━━━━━━━\u001b[0m\u001b[37m\u001b[0m \u001b[1m0s\u001b[0m 43ms/step\n",
      "\u001b[1m1/1\u001b[0m \u001b[32m━━━━━━━━━━━━━━━━━━━━\u001b[0m\u001b[37m\u001b[0m \u001b[1m0s\u001b[0m 47ms/step\n",
      "\u001b[1m1/1\u001b[0m \u001b[32m━━━━━━━━━━━━━━━━━━━━\u001b[0m\u001b[37m\u001b[0m \u001b[1m0s\u001b[0m 44ms/step\n",
      "\u001b[1m1/1\u001b[0m \u001b[32m━━━━━━━━━━━━━━━━━━━━\u001b[0m\u001b[37m\u001b[0m \u001b[1m0s\u001b[0m 44ms/step\n",
      "\u001b[1m1/1\u001b[0m \u001b[32m━━━━━━━━━━━━━━━━━━━━\u001b[0m\u001b[37m\u001b[0m \u001b[1m0s\u001b[0m 47ms/step\n",
      "\u001b[1m1/1\u001b[0m \u001b[32m━━━━━━━━━━━━━━━━━━━━\u001b[0m\u001b[37m\u001b[0m \u001b[1m0s\u001b[0m 49ms/step\n",
      "\u001b[1m1/1\u001b[0m \u001b[32m━━━━━━━━━━━━━━━━━━━━\u001b[0m\u001b[37m\u001b[0m \u001b[1m0s\u001b[0m 48ms/step\n",
      "\u001b[1m1/1\u001b[0m \u001b[32m━━━━━━━━━━━━━━━━━━━━\u001b[0m\u001b[37m\u001b[0m \u001b[1m0s\u001b[0m 52ms/step\n",
      "\u001b[1m1/1\u001b[0m \u001b[32m━━━━━━━━━━━━━━━━━━━━\u001b[0m\u001b[37m\u001b[0m \u001b[1m0s\u001b[0m 52ms/step\n",
      "\u001b[1m1/1\u001b[0m \u001b[32m━━━━━━━━━━━━━━━━━━━━\u001b[0m\u001b[37m\u001b[0m \u001b[1m0s\u001b[0m 46ms/step\n",
      "\u001b[1m1/1\u001b[0m \u001b[32m━━━━━━━━━━━━━━━━━━━━\u001b[0m\u001b[37m\u001b[0m \u001b[1m0s\u001b[0m 48ms/step\n",
      "\u001b[1m1/1\u001b[0m \u001b[32m━━━━━━━━━━━━━━━━━━━━\u001b[0m\u001b[37m\u001b[0m \u001b[1m0s\u001b[0m 48ms/step\n",
      "\u001b[1m1/1\u001b[0m \u001b[32m━━━━━━━━━━━━━━━━━━━━\u001b[0m\u001b[37m\u001b[0m \u001b[1m0s\u001b[0m 52ms/step\n",
      "\u001b[1m1/1\u001b[0m \u001b[32m━━━━━━━━━━━━━━━━━━━━\u001b[0m\u001b[37m\u001b[0m \u001b[1m0s\u001b[0m 46ms/step\n",
      "\u001b[1m1/1\u001b[0m \u001b[32m━━━━━━━━━━━━━━━━━━━━\u001b[0m\u001b[37m\u001b[0m \u001b[1m0s\u001b[0m 45ms/step\n",
      "\u001b[1m1/1\u001b[0m \u001b[32m━━━━━━━━━━━━━━━━━━━━\u001b[0m\u001b[37m\u001b[0m \u001b[1m0s\u001b[0m 45ms/step\n",
      "\u001b[1m1/1\u001b[0m \u001b[32m━━━━━━━━━━━━━━━━━━━━\u001b[0m\u001b[37m\u001b[0m \u001b[1m0s\u001b[0m 46ms/step\n",
      "\u001b[1m1/1\u001b[0m \u001b[32m━━━━━━━━━━━━━━━━━━━━\u001b[0m\u001b[37m\u001b[0m \u001b[1m0s\u001b[0m 47ms/step\n",
      "\u001b[1m1/1\u001b[0m \u001b[32m━━━━━━━━━━━━━━━━━━━━\u001b[0m\u001b[37m\u001b[0m \u001b[1m0s\u001b[0m 50ms/step\n",
      "\u001b[1m1/1\u001b[0m \u001b[32m━━━━━━━━━━━━━━━━━━━━\u001b[0m\u001b[37m\u001b[0m \u001b[1m0s\u001b[0m 48ms/step\n",
      "\u001b[1m1/1\u001b[0m \u001b[32m━━━━━━━━━━━━━━━━━━━━\u001b[0m\u001b[37m\u001b[0m \u001b[1m0s\u001b[0m 45ms/step\n",
      "\u001b[1m1/1\u001b[0m \u001b[32m━━━━━━━━━━━━━━━━━━━━\u001b[0m\u001b[37m\u001b[0m \u001b[1m0s\u001b[0m 43ms/step\n",
      "\u001b[1m1/1\u001b[0m \u001b[32m━━━━━━━━━━━━━━━━━━━━\u001b[0m\u001b[37m\u001b[0m \u001b[1m0s\u001b[0m 50ms/step\n",
      "\u001b[1m1/1\u001b[0m \u001b[32m━━━━━━━━━━━━━━━━━━━━\u001b[0m\u001b[37m\u001b[0m \u001b[1m0s\u001b[0m 44ms/step\n",
      "\u001b[1m1/1\u001b[0m \u001b[32m━━━━━━━━━━━━━━━━━━━━\u001b[0m\u001b[37m\u001b[0m \u001b[1m0s\u001b[0m 43ms/step\n",
      "\u001b[1m1/1\u001b[0m \u001b[32m━━━━━━━━━━━━━━━━━━━━\u001b[0m\u001b[37m\u001b[0m \u001b[1m0s\u001b[0m 48ms/step\n",
      "\u001b[1m1/1\u001b[0m \u001b[32m━━━━━━━━━━━━━━━━━━━━\u001b[0m\u001b[37m\u001b[0m \u001b[1m0s\u001b[0m 46ms/step\n",
      "\u001b[1m1/1\u001b[0m \u001b[32m━━━━━━━━━━━━━━━━━━━━\u001b[0m\u001b[37m\u001b[0m \u001b[1m0s\u001b[0m 48ms/step\n",
      "\u001b[1m1/1\u001b[0m \u001b[32m━━━━━━━━━━━━━━━━━━━━\u001b[0m\u001b[37m\u001b[0m \u001b[1m0s\u001b[0m 49ms/step\n",
      "\u001b[1m1/1\u001b[0m \u001b[32m━━━━━━━━━━━━━━━━━━━━\u001b[0m\u001b[37m\u001b[0m \u001b[1m0s\u001b[0m 52ms/step\n",
      "\u001b[1m1/1\u001b[0m \u001b[32m━━━━━━━━━━━━━━━━━━━━\u001b[0m\u001b[37m\u001b[0m \u001b[1m0s\u001b[0m 52ms/step\n",
      "\u001b[1m1/1\u001b[0m \u001b[32m━━━━━━━━━━━━━━━━━━━━\u001b[0m\u001b[37m\u001b[0m \u001b[1m0s\u001b[0m 53ms/step\n",
      "\u001b[1m1/1\u001b[0m \u001b[32m━━━━━━━━━━━━━━━━━━━━\u001b[0m\u001b[37m\u001b[0m \u001b[1m0s\u001b[0m 52ms/step\n",
      "\u001b[1m1/1\u001b[0m \u001b[32m━━━━━━━━━━━━━━━━━━━━\u001b[0m\u001b[37m\u001b[0m \u001b[1m0s\u001b[0m 49ms/step\n",
      "\u001b[1m1/1\u001b[0m \u001b[32m━━━━━━━━━━━━━━━━━━━━\u001b[0m\u001b[37m\u001b[0m \u001b[1m0s\u001b[0m 49ms/step\n",
      "\u001b[1m1/1\u001b[0m \u001b[32m━━━━━━━━━━━━━━━━━━━━\u001b[0m\u001b[37m\u001b[0m \u001b[1m0s\u001b[0m 50ms/step\n",
      "\u001b[1m1/1\u001b[0m \u001b[32m━━━━━━━━━━━━━━━━━━━━\u001b[0m\u001b[37m\u001b[0m \u001b[1m0s\u001b[0m 50ms/step\n",
      "\u001b[1m1/1\u001b[0m \u001b[32m━━━━━━━━━━━━━━━━━━━━\u001b[0m\u001b[37m\u001b[0m \u001b[1m0s\u001b[0m 47ms/step\n",
      "\u001b[1m1/1\u001b[0m \u001b[32m━━━━━━━━━━━━━━━━━━━━\u001b[0m\u001b[37m\u001b[0m \u001b[1m0s\u001b[0m 53ms/step\n",
      "\u001b[1m1/1\u001b[0m \u001b[32m━━━━━━━━━━━━━━━━━━━━\u001b[0m\u001b[37m\u001b[0m \u001b[1m0s\u001b[0m 50ms/step\n",
      "\u001b[1m1/1\u001b[0m \u001b[32m━━━━━━━━━━━━━━━━━━━━\u001b[0m\u001b[37m\u001b[0m \u001b[1m0s\u001b[0m 49ms/step\n",
      "\u001b[1m1/1\u001b[0m \u001b[32m━━━━━━━━━━━━━━━━━━━━\u001b[0m\u001b[37m\u001b[0m \u001b[1m0s\u001b[0m 50ms/step\n",
      "\u001b[1m1/1\u001b[0m \u001b[32m━━━━━━━━━━━━━━━━━━━━\u001b[0m\u001b[37m\u001b[0m \u001b[1m0s\u001b[0m 51ms/step\n",
      "\u001b[1m1/1\u001b[0m \u001b[32m━━━━━━━━━━━━━━━━━━━━\u001b[0m\u001b[37m\u001b[0m \u001b[1m0s\u001b[0m 48ms/step\n",
      "\u001b[1m1/1\u001b[0m \u001b[32m━━━━━━━━━━━━━━━━━━━━\u001b[0m\u001b[37m\u001b[0m \u001b[1m0s\u001b[0m 46ms/step\n",
      "\u001b[1m1/1\u001b[0m \u001b[32m━━━━━━━━━━━━━━━━━━━━\u001b[0m\u001b[37m\u001b[0m \u001b[1m0s\u001b[0m 46ms/step\n",
      "\u001b[1m1/1\u001b[0m \u001b[32m━━━━━━━━━━━━━━━━━━━━\u001b[0m\u001b[37m\u001b[0m \u001b[1m0s\u001b[0m 45ms/step\n",
      "\u001b[1m1/1\u001b[0m \u001b[32m━━━━━━━━━━━━━━━━━━━━\u001b[0m\u001b[37m\u001b[0m \u001b[1m0s\u001b[0m 47ms/step\n",
      "\u001b[1m1/1\u001b[0m \u001b[32m━━━━━━━━━━━━━━━━━━━━\u001b[0m\u001b[37m\u001b[0m \u001b[1m0s\u001b[0m 45ms/step\n",
      "\u001b[1m1/1\u001b[0m \u001b[32m━━━━━━━━━━━━━━━━━━━━\u001b[0m\u001b[37m\u001b[0m \u001b[1m0s\u001b[0m 44ms/step\n",
      "\u001b[1m1/1\u001b[0m \u001b[32m━━━━━━━━━━━━━━━━━━━━\u001b[0m\u001b[37m\u001b[0m \u001b[1m0s\u001b[0m 44ms/step\n",
      "\u001b[1m1/1\u001b[0m \u001b[32m━━━━━━━━━━━━━━━━━━━━\u001b[0m\u001b[37m\u001b[0m \u001b[1m0s\u001b[0m 44ms/step\n",
      "\u001b[1m1/1\u001b[0m \u001b[32m━━━━━━━━━━━━━━━━━━━━\u001b[0m\u001b[37m\u001b[0m \u001b[1m0s\u001b[0m 62ms/step\n",
      "\u001b[1m1/1\u001b[0m \u001b[32m━━━━━━━━━━━━━━━━━━━━\u001b[0m\u001b[37m\u001b[0m \u001b[1m0s\u001b[0m 52ms/step\n",
      "\u001b[1m1/1\u001b[0m \u001b[32m━━━━━━━━━━━━━━━━━━━━\u001b[0m\u001b[37m\u001b[0m \u001b[1m0s\u001b[0m 50ms/step\n",
      "\u001b[1m1/1\u001b[0m \u001b[32m━━━━━━━━━━━━━━━━━━━━\u001b[0m\u001b[37m\u001b[0m \u001b[1m0s\u001b[0m 50ms/step\n",
      "\u001b[1m1/1\u001b[0m \u001b[32m━━━━━━━━━━━━━━━━━━━━\u001b[0m\u001b[37m\u001b[0m \u001b[1m0s\u001b[0m 50ms/step\n",
      "\u001b[1m1/1\u001b[0m \u001b[32m━━━━━━━━━━━━━━━━━━━━\u001b[0m\u001b[37m\u001b[0m \u001b[1m0s\u001b[0m 49ms/step\n",
      "\u001b[1m1/1\u001b[0m \u001b[32m━━━━━━━━━━━━━━━━━━━━\u001b[0m\u001b[37m\u001b[0m \u001b[1m0s\u001b[0m 47ms/step\n",
      "\u001b[1m1/1\u001b[0m \u001b[32m━━━━━━━━━━━━━━━━━━━━\u001b[0m\u001b[37m\u001b[0m \u001b[1m0s\u001b[0m 48ms/step\n",
      "\u001b[1m1/1\u001b[0m \u001b[32m━━━━━━━━━━━━━━━━━━━━\u001b[0m\u001b[37m\u001b[0m \u001b[1m0s\u001b[0m 52ms/step\n",
      "\u001b[1m1/1\u001b[0m \u001b[32m━━━━━━━━━━━━━━━━━━━━\u001b[0m\u001b[37m\u001b[0m \u001b[1m0s\u001b[0m 48ms/step\n",
      "\u001b[1m1/1\u001b[0m \u001b[32m━━━━━━━━━━━━━━━━━━━━\u001b[0m\u001b[37m\u001b[0m \u001b[1m0s\u001b[0m 50ms/step\n",
      "\u001b[1m1/1\u001b[0m \u001b[32m━━━━━━━━━━━━━━━━━━━━\u001b[0m\u001b[37m\u001b[0m \u001b[1m0s\u001b[0m 52ms/step\n",
      "\u001b[1m1/1\u001b[0m \u001b[32m━━━━━━━━━━━━━━━━━━━━\u001b[0m\u001b[37m\u001b[0m \u001b[1m0s\u001b[0m 50ms/step\n",
      "\u001b[1m1/1\u001b[0m \u001b[32m━━━━━━━━━━━━━━━━━━━━\u001b[0m\u001b[37m\u001b[0m \u001b[1m0s\u001b[0m 48ms/step\n",
      "\u001b[1m1/1\u001b[0m \u001b[32m━━━━━━━━━━━━━━━━━━━━\u001b[0m\u001b[37m\u001b[0m \u001b[1m0s\u001b[0m 49ms/step\n",
      "\u001b[1m1/1\u001b[0m \u001b[32m━━━━━━━━━━━━━━━━━━━━\u001b[0m\u001b[37m\u001b[0m \u001b[1m0s\u001b[0m 47ms/step\n",
      "\u001b[1m1/1\u001b[0m \u001b[32m━━━━━━━━━━━━━━━━━━━━\u001b[0m\u001b[37m\u001b[0m \u001b[1m0s\u001b[0m 48ms/step\n",
      "\u001b[1m1/1\u001b[0m \u001b[32m━━━━━━━━━━━━━━━━━━━━\u001b[0m\u001b[37m\u001b[0m \u001b[1m0s\u001b[0m 48ms/step\n",
      "\u001b[1m1/1\u001b[0m \u001b[32m━━━━━━━━━━━━━━━━━━━━\u001b[0m\u001b[37m\u001b[0m \u001b[1m0s\u001b[0m 50ms/step\n",
      "\u001b[1m1/1\u001b[0m \u001b[32m━━━━━━━━━━━━━━━━━━━━\u001b[0m\u001b[37m\u001b[0m \u001b[1m0s\u001b[0m 50ms/step\n",
      "\u001b[1m1/1\u001b[0m \u001b[32m━━━━━━━━━━━━━━━━━━━━\u001b[0m\u001b[37m\u001b[0m \u001b[1m0s\u001b[0m 46ms/step\n",
      "\u001b[1m1/1\u001b[0m \u001b[32m━━━━━━━━━━━━━━━━━━━━\u001b[0m\u001b[37m\u001b[0m \u001b[1m0s\u001b[0m 47ms/step\n",
      "\u001b[1m1/1\u001b[0m \u001b[32m━━━━━━━━━━━━━━━━━━━━\u001b[0m\u001b[37m\u001b[0m \u001b[1m0s\u001b[0m 49ms/step\n",
      "\u001b[1m1/1\u001b[0m \u001b[32m━━━━━━━━━━━━━━━━━━━━\u001b[0m\u001b[37m\u001b[0m \u001b[1m0s\u001b[0m 51ms/step\n",
      "\u001b[1m1/1\u001b[0m \u001b[32m━━━━━━━━━━━━━━━━━━━━\u001b[0m\u001b[37m\u001b[0m \u001b[1m0s\u001b[0m 49ms/step\n",
      "\u001b[1m1/1\u001b[0m \u001b[32m━━━━━━━━━━━━━━━━━━━━\u001b[0m\u001b[37m\u001b[0m \u001b[1m0s\u001b[0m 51ms/step\n",
      "\u001b[1m1/1\u001b[0m \u001b[32m━━━━━━━━━━━━━━━━━━━━\u001b[0m\u001b[37m\u001b[0m \u001b[1m0s\u001b[0m 49ms/step\n",
      "\u001b[1m1/1\u001b[0m \u001b[32m━━━━━━━━━━━━━━━━━━━━\u001b[0m\u001b[37m\u001b[0m \u001b[1m0s\u001b[0m 51ms/step\n",
      "\u001b[1m1/1\u001b[0m \u001b[32m━━━━━━━━━━━━━━━━━━━━\u001b[0m\u001b[37m\u001b[0m \u001b[1m0s\u001b[0m 59ms/step\n",
      "\u001b[1m1/1\u001b[0m \u001b[32m━━━━━━━━━━━━━━━━━━━━\u001b[0m\u001b[37m\u001b[0m \u001b[1m0s\u001b[0m 50ms/step\n",
      "\u001b[1m1/1\u001b[0m \u001b[32m━━━━━━━━━━━━━━━━━━━━\u001b[0m\u001b[37m\u001b[0m \u001b[1m0s\u001b[0m 54ms/step\n",
      "\u001b[1m1/1\u001b[0m \u001b[32m━━━━━━━━━━━━━━━━━━━━\u001b[0m\u001b[37m\u001b[0m \u001b[1m0s\u001b[0m 52ms/step\n",
      "\u001b[1m1/1\u001b[0m \u001b[32m━━━━━━━━━━━━━━━━━━━━\u001b[0m\u001b[37m\u001b[0m \u001b[1m0s\u001b[0m 51ms/step\n",
      "\u001b[1m1/1\u001b[0m \u001b[32m━━━━━━━━━━━━━━━━━━━━\u001b[0m\u001b[37m\u001b[0m \u001b[1m0s\u001b[0m 55ms/step\n",
      "\u001b[1m1/1\u001b[0m \u001b[32m━━━━━━━━━━━━━━━━━━━━\u001b[0m\u001b[37m\u001b[0m \u001b[1m0s\u001b[0m 55ms/step\n",
      "\u001b[1m1/1\u001b[0m \u001b[32m━━━━━━━━━━━━━━━━━━━━\u001b[0m\u001b[37m\u001b[0m \u001b[1m0s\u001b[0m 55ms/step\n",
      "\u001b[1m1/1\u001b[0m \u001b[32m━━━━━━━━━━━━━━━━━━━━\u001b[0m\u001b[37m\u001b[0m \u001b[1m0s\u001b[0m 51ms/step\n",
      "\u001b[1m1/1\u001b[0m \u001b[32m━━━━━━━━━━━━━━━━━━━━\u001b[0m\u001b[37m\u001b[0m \u001b[1m0s\u001b[0m 51ms/step\n",
      "\u001b[1m1/1\u001b[0m \u001b[32m━━━━━━━━━━━━━━━━━━━━\u001b[0m\u001b[37m\u001b[0m \u001b[1m0s\u001b[0m 54ms/step\n",
      "\u001b[1m1/1\u001b[0m \u001b[32m━━━━━━━━━━━━━━━━━━━━\u001b[0m\u001b[37m\u001b[0m \u001b[1m0s\u001b[0m 53ms/step\n",
      "\u001b[1m1/1\u001b[0m \u001b[32m━━━━━━━━━━━━━━━━━━━━\u001b[0m\u001b[37m\u001b[0m \u001b[1m0s\u001b[0m 52ms/step\n",
      "\u001b[1m1/1\u001b[0m \u001b[32m━━━━━━━━━━━━━━━━━━━━\u001b[0m\u001b[37m\u001b[0m \u001b[1m0s\u001b[0m 47ms/step\n",
      "\u001b[1m1/1\u001b[0m \u001b[32m━━━━━━━━━━━━━━━━━━━━\u001b[0m\u001b[37m\u001b[0m \u001b[1m0s\u001b[0m 50ms/step\n",
      "\u001b[1m1/1\u001b[0m \u001b[32m━━━━━━━━━━━━━━━━━━━━\u001b[0m\u001b[37m\u001b[0m \u001b[1m0s\u001b[0m 51ms/step\n"
     ]
    }
   ],
   "source": [
    "future_predictions = []\n",
    "\n",
    "for i in range(100):\n",
    "    next_pred = model.predict(x_input)\n",
    "    future_predictions.append(next_pred[0, 0])\n",
    "    \n",
    "    # Cập nhật dữ liệu đầu vào\n",
    "    x_input = np.append(x_input[:, 1:, :], next_pred.reshape(1, 1, 1), axis=1)"
   ]
  },
  {
   "cell_type": "code",
   "execution_count": 213,
   "id": "27d7e66e-abca-4a2b-83a7-bb9c5ae80d3f",
   "metadata": {},
   "outputs": [],
   "source": [
    "future_predictions = np.array(future_predictions).reshape(-1,1)\n",
    "future_predictions_real = scaler.inverse_transform(future_predictions)\n"
   ]
  },
  {
   "cell_type": "code",
   "execution_count": 215,
   "id": "0f89ae39-536f-4a32-8d95-36f7f64be035",
   "metadata": {},
   "outputs": [
    {
     "data": {
      "image/png": "[encoded data removed]",
      "text/plain": [
       "<Figure size 1200x600 with 1 Axes>"
      ]
     },
     "metadata": {},
     "output_type": "display_data"
    },
    {
     "name": "stdout",
     "output_type": "stream",
     "text": [
      "Date: 2025-03-04, Predicted Price: 25971.41 USD\n",
      "Date: 2025-03-05, Predicted Price: 26096.79 USD\n",
      "Date: 2025-03-06, Predicted Price: 26185.02 USD\n",
      "Date: 2025-03-07, Predicted Price: 26228.84 USD\n",
      "Date: 2025-03-08, Predicted Price: 26230.80 USD\n",
      "Date: 2025-03-09, Predicted Price: 26198.62 USD\n",
      "Date: 2025-03-10, Predicted Price: 26141.64 USD\n",
      "Date: 2025-03-11, Predicted Price: 26068.50 USD\n",
      "Date: 2025-03-12, Predicted Price: 25986.09 USD\n",
      "Date: 2025-03-13, Predicted Price: 25899.34 USD\n",
      "Date: 2025-03-14, Predicted Price: 25811.36 USD\n",
      "Date: 2025-03-15, Predicted Price: 25723.92 USD\n",
      "Date: 2025-03-16, Predicted Price: 25637.81 USD\n",
      "Date: 2025-03-17, Predicted Price: 25553.23 USD\n",
      "Date: 2025-03-18, Predicted Price: 25470.09 USD\n",
      "Date: 2025-03-19, Predicted Price: 25388.13 USD\n",
      "Date: 2025-03-20, Predicted Price: 25307.10 USD\n",
      "Date: 2025-03-21, Predicted Price: 25226.78 USD\n",
      "Date: 2025-03-22, Predicted Price: 25146.96 USD\n",
      "Date: 2025-03-23, Predicted Price: 25067.54 USD\n",
      "Date: 2025-03-24, Predicted Price: 24988.41 USD\n",
      "Date: 2025-03-25, Predicted Price: 24909.54 USD\n",
      "Date: 2025-03-26, Predicted Price: 24830.92 USD\n",
      "Date: 2025-03-27, Predicted Price: 24752.51 USD\n",
      "Date: 2025-03-28, Predicted Price: 24674.33 USD\n",
      "Date: 2025-03-29, Predicted Price: 24596.33 USD\n",
      "Date: 2025-03-30, Predicted Price: 24518.54 USD\n",
      "Date: 2025-03-31, Predicted Price: 24440.92 USD\n",
      "Date: 2025-04-01, Predicted Price: 24363.47 USD\n",
      "Date: 2025-04-02, Predicted Price: 24286.17 USD\n",
      "Date: 2025-04-03, Predicted Price: 24209.01 USD\n",
      "Date: 2025-04-04, Predicted Price: 24131.95 USD\n",
      "Date: 2025-04-05, Predicted Price: 24054.80 USD\n",
      "Date: 2025-04-06, Predicted Price: 23977.42 USD\n",
      "Date: 2025-04-07, Predicted Price: 23899.71 USD\n",
      "Date: 2025-04-08, Predicted Price: 23821.63 USD\n",
      "Date: 2025-04-09, Predicted Price: 23743.17 USD\n",
      "Date: 2025-04-10, Predicted Price: 23664.32 USD\n",
      "Date: 2025-04-11, Predicted Price: 23585.10 USD\n",
      "Date: 2025-04-12, Predicted Price: 23505.52 USD\n",
      "Date: 2025-04-13, Predicted Price: 23425.58 USD\n",
      "Date: 2025-04-14, Predicted Price: 23345.28 USD\n",
      "Date: 2025-04-15, Predicted Price: 23264.61 USD\n",
      "Date: 2025-04-16, Predicted Price: 23183.56 USD\n",
      "Date: 2025-04-17, Predicted Price: 23102.13 USD\n",
      "Date: 2025-04-18, Predicted Price: 23020.30 USD\n",
      "Date: 2025-04-19, Predicted Price: 22938.07 USD\n",
      "Date: 2025-04-20, Predicted Price: 22855.43 USD\n",
      "Date: 2025-04-21, Predicted Price: 22772.35 USD\n",
      "Date: 2025-04-22, Predicted Price: 22688.84 USD\n",
      "Date: 2025-04-23, Predicted Price: 22604.87 USD\n",
      "Date: 2025-04-24, Predicted Price: 22520.44 USD\n",
      "Date: 2025-04-25, Predicted Price: 22435.52 USD\n",
      "Date: 2025-04-26, Predicted Price: 22350.10 USD\n",
      "Date: 2025-04-27, Predicted Price: 22264.18 USD\n",
      "Date: 2025-04-28, Predicted Price: 22177.72 USD\n",
      "Date: 2025-04-29, Predicted Price: 22090.72 USD\n",
      "Date: 2025-04-30, Predicted Price: 22003.16 USD\n",
      "Date: 2025-05-01, Predicted Price: 21915.02 USD\n",
      "Date: 2025-05-02, Predicted Price: 21826.29 USD\n",
      "Date: 2025-05-03, Predicted Price: 21736.93 USD\n",
      "Date: 2025-05-04, Predicted Price: 21646.95 USD\n",
      "Date: 2025-05-05, Predicted Price: 21556.31 USD\n",
      "Date: 2025-05-06, Predicted Price: 21465.00 USD\n",
      "Date: 2025-05-07, Predicted Price: 21373.05 USD\n",
      "Date: 2025-05-08, Predicted Price: 21280.45 USD\n",
      "Date: 2025-05-09, Predicted Price: 21187.17 USD\n",
      "Date: 2025-05-10, Predicted Price: 21093.19 USD\n",
      "Date: 2025-05-11, Predicted Price: 20998.47 USD\n",
      "Date: 2025-05-12, Predicted Price: 20903.00 USD\n",
      "Date: 2025-05-13, Predicted Price: 20806.75 USD\n",
      "Date: 2025-05-14, Predicted Price: 20709.68 USD\n",
      "Date: 2025-05-15, Predicted Price: 20611.78 USD\n",
      "Date: 2025-05-16, Predicted Price: 20513.03 USD\n",
      "Date: 2025-05-17, Predicted Price: 20413.43 USD\n",
      "Date: 2025-05-18, Predicted Price: 20313.05 USD\n",
      "Date: 2025-05-19, Predicted Price: 20212.01 USD\n",
      "Date: 2025-05-20, Predicted Price: 20110.37 USD\n",
      "Date: 2025-05-21, Predicted Price: 20008.15 USD\n",
      "Date: 2025-05-22, Predicted Price: 19905.39 USD\n",
      "Date: 2025-05-23, Predicted Price: 19802.07 USD\n",
      "Date: 2025-05-24, Predicted Price: 19698.19 USD\n",
      "Date: 2025-05-25, Predicted Price: 19593.72 USD\n",
      "Date: 2025-05-26, Predicted Price: 19488.66 USD\n",
      "Date: 2025-05-27, Predicted Price: 19383.03 USD\n",
      "Date: 2025-05-28, Predicted Price: 19276.92 USD\n",
      "Date: 2025-05-29, Predicted Price: 19170.42 USD\n",
      "Date: 2025-05-30, Predicted Price: 19063.59 USD\n",
      "Date: 2025-05-31, Predicted Price: 18956.47 USD\n",
      "Date: 2025-06-01, Predicted Price: 18849.37 USD\n",
      "Date: 2025-06-02, Predicted Price: 18742.63 USD\n",
      "Date: 2025-06-03, Predicted Price: 18636.22 USD\n",
      "Date: 2025-06-04, Predicted Price: 18530.09 USD\n",
      "Date: 2025-06-05, Predicted Price: 18424.16 USD\n",
      "Date: 2025-06-06, Predicted Price: 18318.47 USD\n",
      "Date: 2025-06-07, Predicted Price: 18213.12 USD\n",
      "Date: 2025-06-08, Predicted Price: 18108.26 USD\n",
      "Date: 2025-06-09, Predicted Price: 18003.98 USD\n",
      "Date: 2025-06-10, Predicted Price: 17900.43 USD\n",
      "Date: 2025-06-11, Predicted Price: 17797.50 USD\n"
     ]
    }
   ],
   "source": [
    "import datetime as dt\n",
    "import matplotlib.pyplot as plt\n",
    "\n",
    "dates = [dt.datetime.today() + dt.timedelta(days=i) for i in range(1, 101)]\n",
    "plt.figure(figsize=(12,6))\n",
    "plt.plot(dates, future_predictions_real, marker='o', linestyle='dashed', label='Predicted Price')\n",
    "plt.xlabel('Date')\n",
    "plt.ylabel('Stock Price (USD)')\n",
    "plt.title(f'Predicted Stock Price for {stock} (Next 7 Days)')\n",
    "plt.legend()\n",
    "plt.xticks(rotation=45)\n",
    "plt.show()\n",
    "\n",
    "# In kết quả dự đoán\n",
    "for i in range(100):\n",
    "    print(f\"Date: {dates[i].strftime('%Y-%m-%d')}, Predicted Price: {future_predictions_real[i][0]:.2f} USD\")\n"
   ]
  },
  {
   "cell_type": "code",
   "execution_count": null,
   "id": "a9c4c829-b03e-4791-9a4e-d03d9997498f",
   "metadata": {},
   "outputs": [],
   "source": [
    "tôi đã c"
   ]
  }
 ],
 "metadata": {
  "kernelspec": {
   "display_name": "Python [conda env:base] *",
   "language": "python",
   "name": "conda-base-py"
  },
  "language_info": {
   "codemirror_mode": {
    "name": "ipython",
    "version": 3
   },
   "file_extension": ".py",
   "mimetype": "text/x-python",
   "name": "python",
   "nbconvert_exporter": "python",
   "pygments_lexer": "ipython3",
   "version": "3.12.7"
  }
 },
 "nbformat": 4,
 "nbformat_minor": 5
}

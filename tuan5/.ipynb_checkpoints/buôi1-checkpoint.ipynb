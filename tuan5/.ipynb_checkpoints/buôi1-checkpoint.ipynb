{
 "cells": [
  {
   "cell_type": "code",
   "execution_count": null,
   "id": "d0b63cc0-0b36-4cfa-9748-b6d67f1ae4c3",
   "metadata": {},
   "outputs": [],
   "source": [
    "import numpy as np\n",
    "import pandas as np\n",
    "import matplotlip.pyplot as plt\n",
    "import yfinance as yf"
   ]
  },
  {
   "cell_type": "code",
   "execution_count": null,
   "id": "55fe22a1-d473-4871-95f8-52dcfb3b7f70",
   "metadata": {},
   "outputs": [],
   "source": [
    "start='2012-01---01'\n",
    "end='2022-12-21'\n",
    "\n",
    "stock='GOOG'\n",
    "data= yf.download(stock, start, end)\n"
   ]
  },
  {
   "cell_type": "code",
   "execution_count": null,
   "id": "74080874-79fc-40d2-a506-32c97e083827",
   "metadata": {},
   "outputs": [],
   "source": []
  }
 ],
 "metadata": {
  "kernelspec": {
   "display_name": "Python 3 (ipykernel)",
   "language": "python",
   "name": "python3"
  },
  "language_info": {
   "codemirror_mode": {
    "name": "ipython",
    "version": 3
   },
   "file_extension": ".py",
   "mimetype": "text/x-python",
   "name": "python",
   "nbconvert_exporter": "python",
   "pygments_lexer": "ipython3",
   "version": "3.13.2"
  }
 },
 "nbformat": 4,
 "nbformat_minor": 5
}

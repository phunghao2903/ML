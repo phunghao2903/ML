{
 "cells": [
  {
   "cell_type": "code",
   "execution_count": 1,
   "id": "b8f4313f-9a6c-4d69-b922-795618c1f1e7",
   "metadata": {},
   "outputs": [],
   "source": [
    "import numpy as np\n",
    "import matplotlib.pyplot as plt\n",
    "import pandas as pd\n",
    "import os.path\n",
    "import datetime as dt\n",
    "import yfinance as yf\n",
    "from os import path\n",
    "from keras.models import Sequential\n",
    "from keras.layers import Dense\n",
    "from keras.layers import LSTM\n",
    "from keras.layers import Dropout"
   ]
  },
  {
   "cell_type": "code",
   "execution_count": 2,
   "id": "a9db3922-c491-491f-8e0b-f01f0ec0f9d7",
   "metadata": {},
   "outputs": [
    {
     "name": "stdout",
     "output_type": "stream",
     "text": [
      "YF.download() has changed argument auto_adjust default to True\n"
     ]
    },
    {
     "name": "stderr",
     "output_type": "stream",
     "text": [
      "[*********************100%***********************]  1 of 1 completed\n"
     ]
    }
   ],
   "source": [
    "stock = \"HPG.VN\"\n",
    "start = dt.datetime(2010, 1, 1)\n",
    "end = dt.datetime(2024, 1, 1)\n",
    "df = yf.download(stock, start, end)"
   ]
  },
  {
   "cell_type": "code",
   "execution_count": 3,
   "id": "769af968-b9b7-493f-adb3-fba8437c03ca",
   "metadata": {},
   "outputs": [
    {
     "data": {
      "text/html": [
       "<div>\n",
       "<style scoped>\n",
       "    .dataframe tbody tr th:only-of-type {\n",
       "        vertical-align: middle;\n",
       "    }\n",
       "\n",
       "    .dataframe tbody tr th {\n",
       "        vertical-align: top;\n",
       "    }\n",
       "\n",
       "    .dataframe thead tr th {\n",
       "        text-align: left;\n",
       "    }\n",
       "</style>\n",
       "<table border=\"1\" class=\"dataframe\">\n",
       "  <thead>\n",
       "    <tr>\n",
       "      <th>Price</th>\n",
       "      <th>Date</th>\n",
       "      <th>Close</th>\n",
       "      <th>High</th>\n",
       "      <th>Low</th>\n",
       "      <th>Open</th>\n",
       "      <th>Volume</th>\n",
       "    </tr>\n",
       "    <tr>\n",
       "      <th>Ticker</th>\n",
       "      <th></th>\n",
       "      <th>HPG.VN</th>\n",
       "      <th>HPG.VN</th>\n",
       "      <th>HPG.VN</th>\n",
       "      <th>HPG.VN</th>\n",
       "      <th>HPG.VN</th>\n",
       "    </tr>\n",
       "  </thead>\n",
       "  <tbody>\n",
       "    <tr>\n",
       "      <th>0</th>\n",
       "      <td>2010-01-04</td>\n",
       "      <td>2455.635986</td>\n",
       "      <td>2455.635986</td>\n",
       "      <td>2415.379639</td>\n",
       "      <td>2415.379639</td>\n",
       "      <td>14981968</td>\n",
       "    </tr>\n",
       "    <tr>\n",
       "      <th>1</th>\n",
       "      <td>2010-01-05</td>\n",
       "      <td>2576.405029</td>\n",
       "      <td>2576.405029</td>\n",
       "      <td>2455.635986</td>\n",
       "      <td>2576.405029</td>\n",
       "      <td>29885458</td>\n",
       "    </tr>\n",
       "    <tr>\n",
       "      <th>2</th>\n",
       "      <td>2010-01-06</td>\n",
       "      <td>2656.917725</td>\n",
       "      <td>2656.917725</td>\n",
       "      <td>2536.148682</td>\n",
       "      <td>2556.276855</td>\n",
       "      <td>44009443</td>\n",
       "    </tr>\n",
       "    <tr>\n",
       "      <th>3</th>\n",
       "      <td>2010-01-07</td>\n",
       "      <td>2737.430420</td>\n",
       "      <td>2777.686768</td>\n",
       "      <td>2656.917725</td>\n",
       "      <td>2697.174072</td>\n",
       "      <td>38150498</td>\n",
       "    </tr>\n",
       "    <tr>\n",
       "      <th>4</th>\n",
       "      <td>2010-01-08</td>\n",
       "      <td>2616.661377</td>\n",
       "      <td>2797.814941</td>\n",
       "      <td>2616.661377</td>\n",
       "      <td>2797.814941</td>\n",
       "      <td>22580516</td>\n",
       "    </tr>\n",
       "  </tbody>\n",
       "</table>\n",
       "</div>"
      ],
      "text/plain": [
       "Price        Date        Close         High          Low         Open  \\\n",
       "Ticker                  HPG.VN       HPG.VN       HPG.VN       HPG.VN   \n",
       "0      2010-01-04  2455.635986  2455.635986  2415.379639  2415.379639   \n",
       "1      2010-01-05  2576.405029  2576.405029  2455.635986  2576.405029   \n",
       "2      2010-01-06  2656.917725  2656.917725  2536.148682  2556.276855   \n",
       "3      2010-01-07  2737.430420  2777.686768  2656.917725  2697.174072   \n",
       "4      2010-01-08  2616.661377  2797.814941  2616.661377  2797.814941   \n",
       "\n",
       "Price     Volume  \n",
       "Ticker    HPG.VN  \n",
       "0       14981968  \n",
       "1       29885458  \n",
       "2       44009443  \n",
       "3       38150498  \n",
       "4       22580516  "
      ]
     },
     "execution_count": 3,
     "metadata": {},
     "output_type": "execute_result"
    }
   ],
   "source": [
    "df = df.reset_index()\n",
    "df.head()"
   ]
  },
  {
   "cell_type": "code",
   "execution_count": 4,
   "id": "6264c1ac-db85-496d-8a63-162ac49b6016",
   "metadata": {},
   "outputs": [],
   "source": [
    "data_train = df[['Close']].values"
   ]
  },
  {
   "cell_type": "code",
   "execution_count": 5,
   "id": "b3a8eaff-6010-4a89-8e82-0046c2049ce2",
   "metadata": {},
   "outputs": [],
   "source": [
    "from sklearn.preprocessing import MinMaxScaler\n",
    "scaler = MinMaxScaler(feature_range = (0, 1))\n",
    "\n",
    "data_training = scaler.fit_transform(data_train)\n",
    "\n",
    "x_train, y_train = [], []\n",
    "no_of_sample = len(data_train)"
   ]
  },
  {
   "cell_type": "code",
   "execution_count": 6,
   "id": "b39ff5ad-7f02-492c-876f-bd05645547ad",
   "metadata": {},
   "outputs": [],
   "source": [
    "for i in range(60, no_of_sample):\n",
    "    x_train.append(data_training[i-60:i, 0])\n",
    "    y_train.append(data_training[i, 0])\n",
    "\n",
    "x_train, y_train = np.array(x_train), np.array(y_train)\n",
    "\n",
    "x_train = np.reshape(x_train, (x_train.shape[0], x_train.shape[1], 1))"
   ]
  },
  {
   "cell_type": "code",
   "execution_count": 7,
   "id": "92f1521a-0b99-4cd3-b467-0db16cacacd4",
   "metadata": {},
   "outputs": [
    {
     "name": "stderr",
     "output_type": "stream",
     "text": [
      "C:\\Users\\This PC\\AppData\\Local\\Programs\\Python\\Python311\\Lib\\site-packages\\keras\\src\\layers\\rnn\\rnn.py:200: UserWarning: Do not pass an `input_shape`/`input_dim` argument to a layer. When using Sequential models, prefer using an `Input(shape)` object as the first layer in the model instead.\n",
      "  super().__init__(**kwargs)\n"
     ]
    }
   ],
   "source": [
    "model = Sequential()\n",
    "model.add(LSTM(units = 50, return_sequences = True, input_shape = (x_train.shape[1], 1)))\n",
    "model.add(Dropout(0.2))\n",
    "model.add(LSTM(units = 50, return_sequences = True))\n",
    "model.add(Dropout(0.2))\n",
    "model.add(LSTM(units = 50, return_sequences = True))\n",
    "model.add(Dropout(0.2))\n",
    "model.add(LSTM(units = 50))\n",
    "model.add(Dropout(0.2))\n",
    "model.add(Dense(units = 1))\n",
    "model.compile(optimizer = 'adam', loss = 'mean_squared_error')"
   ]
  },
  {
   "cell_type": "code",
   "execution_count": 8,
   "id": "7bf18f03-a91e-465e-a5da-8ad60f58cedd",
   "metadata": {
    "scrolled": true
   },
   "outputs": [
    {
     "name": "stderr",
     "output_type": "stream",
     "text": [
      "C:\\Users\\This PC\\AppData\\Local\\Programs\\Python\\Python311\\Lib\\site-packages\\keras\\src\\saving\\saving_lib.py:757: UserWarning: Skipping variable loading for optimizer 'adam', because it has 2 variables whereas the saved optimizer has 30 variables. \n",
      "  saveable.load_own_variables(weights_store.get(inner_path))\n"
     ]
    }
   ],
   "source": [
    "if path.exists(\"stock_future.keras\"):\n",
    "    model.load_weights(\"stock_future.keras\")\n",
    "else:\n",
    "    model.fit(x_train, y_train, epochs = 100, batch_size = 32)\n",
    "    model.save(\"stock_future.keras\")"
   ]
  },
  {
   "cell_type": "code",
   "execution_count": 9,
   "id": "f93af22a-45c0-41e9-a629-4f8b133cd309",
   "metadata": {},
   "outputs": [
    {
     "name": "stderr",
     "output_type": "stream",
     "text": [
      "[*********************100%***********************]  1 of 1 completed\n"
     ]
    }
   ],
   "source": [
    "# tap test lay trong khoang tu thang 2/2024 toi thoi diem hien tai\n",
    "stock = \"HPG.VN\"\n",
    "start = dt.datetime(2024, 2, 1)\n",
    "end = dt.datetime.today()\n",
    "real_data_price = yf.download(stock, start, end)"
   ]
  },
  {
   "cell_type": "code",
   "execution_count": 10,
   "id": "dea5d3de-8e44-4576-80fa-12305405d9a0",
   "metadata": {},
   "outputs": [],
   "source": [
    "real_stock_price = real_data_price[['Close']].values"
   ]
  },
  {
   "cell_type": "code",
   "execution_count": 11,
   "id": "3eff8c56-19d8-4e0a-b8be-fe91c051acf5",
   "metadata": {},
   "outputs": [],
   "source": [
    "data_total = pd.concat((df['Close'], real_data_price['Close']), axis = 0)\n",
    "inputs= data_total[len(data_total) - len(real_data_price) - 60:].values\n",
    "inputs = np.clip(inputs, df['Close'].min(), df['Close'].max())\n",
    "inputs= inputs.reshape(-1,1)\n",
    "inputs = scaler.transform(inputs)\n"
   ]
  },
  {
   "cell_type": "code",
   "execution_count": 12,
   "id": "296b3651-46d8-4ac7-a36f-7ef6d58a5ec0",
   "metadata": {},
   "outputs": [],
   "source": [
    "x_test = []\n",
    "no_of_sample = len(inputs)"
   ]
  },
  {
   "cell_type": "code",
   "execution_count": 13,
   "id": "911c186f-1827-44ca-9365-a1b0f244eb34",
   "metadata": {},
   "outputs": [
    {
     "name": "stdout",
     "output_type": "stream",
     "text": [
      "\u001b[1m9/9\u001b[0m \u001b[32m━━━━━━━━━━━━━━━━━━━━\u001b[0m\u001b[37m\u001b[0m \u001b[1m2s\u001b[0m 155ms/step\n"
     ]
    }
   ],
   "source": [
    "for i in range(60, no_of_sample):\n",
    "    x_test.append(inputs[i-60:i, 0])\n",
    "\n",
    "x_test = np.array(x_test)\n",
    "x_test = np.reshape(x_test, (x_test.shape[0], x_test.shape[1], 1))\n",
    "predicted_stock_price = model.predict(x_test)\n",
    "predicted_stock_price = scaler.inverse_transform(predicted_stock_price)"
   ]
  },
  {
   "cell_type": "code",
   "execution_count": 14,
   "id": "d28fe4c2-3026-4c45-8957-696d1ce07417",
   "metadata": {},
   "outputs": [
    {
     "data": {
      "image/png": "[encoded data removed]",
      "text/plain": [
       "<Figure size 640x480 with 1 Axes>"
      ]
     },
     "metadata": {},
     "output_type": "display_data"
    }
   ],
   "source": [
    "plt.plot(real_stock_price, color = 'red', label = 'Real  Stock Price')\n",
    "plt.plot(predicted_stock_price, color = 'blue', label = 'Predicted  Stock Price')\n",
    "plt.title('HPG Stock Price Prediction')\n",
    "plt.xlabel('Time')\n",
    "plt.ylabel('HPG Stock Price')\n",
    "plt.legend()\n",
    "plt.show()"
   ]
  },
  {
   "cell_type": "code",
   "execution_count": null,
   "id": "465989e3-5165-4d37-842d-eafa2f466920",
   "metadata": {},
   "outputs": [],
   "source": [
    "# du doan trong 1 thang tiep theo\n",
    "# nghia la tu bay gio den 24/03/2025\n",
    "\n",
    "\n",
    "# lay 60 ngay cua tap test de tinh cac ngay tiep theo \n",
    "real_data_price = real_data_price['Close'][len(real_data_price)-60:len(real_data_price)].to_numpy()\n",
    "real_data_price = np.array(real_data_price)"
   ]
  },
  {
   "cell_type": "code",
   "execution_count": null,
   "id": "a9c41dcb-6bcf-44a4-82cb-4dc5e825a039",
   "metadata": {},
   "outputs": [],
   "source": [
    "inputs = real_data_price\n",
    "inputs = inputs.reshape(-1,1)\n",
    "inputs = scaler.transform(inputs)"
   ]
  },
  {
   "cell_type": "code",
   "execution_count": null,
   "id": "468e3d75-1f11-473e-aef3-13973d668ba1",
   "metadata": {},
   "outputs": [],
   "source": [
    "i=0\n",
    "while i<28:\n",
    "    x_test = []\n",
    "    no_of_sample = len(real_data_price)\n",
    "\n",
    "    #lay du lieu cuoi\n",
    "    x_test.append(inputs[no_of_sample - 60:no_of_sample, 0])\n",
    "    x_test = np.array(x_test)\n",
    "    x_test = np.reshape(x_test, (x_test.shape[0], x_test.shape[1], 1))\n",
    "    #du doan\n",
    "    predicted_stock_price = model.predict(x_test)\n",
    "    #chuyen du lieu tu 0 1 thanh gia that\n",
    "    predicted_stock_price = scaler.inverse_transform(predicted_stock_price)\n",
    "\n",
    "    real_data_price = np.append(real_data_price, predicted_stock_price[0], axis=0)\n",
    "    inputs = real_data_price\n",
    "    inputs = inputs.reshape(-1,1)\n",
    "    inputs = scaler.transform(inputs)\n",
    "    \n",
    "    print('Stock price ' + str(i+3) + f'/2/2025 of {stock} : ', predicted_stock_price[0][0])\n",
    "    i = i +1"
   ]
  }
 ],
 "metadata": {
  "kernelspec": {
   "display_name": "Python 3 (ipykernel)",
   "language": "python",
   "name": "python3"
  },
  "language_info": {
   "codemirror_mode": {
    "name": "ipython",
    "version": 3
   },
   "file_extension": ".py",
   "mimetype": "text/x-python",
   "name": "python",
   "nbconvert_exporter": "python",
   "pygments_lexer": "ipython3",
   "version": "3.11.0"
  }
 },
 "nbformat": 4,
 "nbformat_minor": 5
}
